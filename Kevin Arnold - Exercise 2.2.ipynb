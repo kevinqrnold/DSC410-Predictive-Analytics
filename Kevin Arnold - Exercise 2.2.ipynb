{
 "cells": [
  {
   "cell_type": "code",
   "execution_count": 9,
   "id": "c6a9d997",
   "metadata": {},
   "outputs": [
    {
     "data": {
      "text/html": [
       "<div>\n",
       "<style scoped>\n",
       "    .dataframe tbody tr th:only-of-type {\n",
       "        vertical-align: middle;\n",
       "    }\n",
       "\n",
       "    .dataframe tbody tr th {\n",
       "        vertical-align: top;\n",
       "    }\n",
       "\n",
       "    .dataframe thead th {\n",
       "        text-align: right;\n",
       "    }\n",
       "</style>\n",
       "<table border=\"1\" class=\"dataframe\">\n",
       "  <thead>\n",
       "    <tr style=\"text-align: right;\">\n",
       "      <th></th>\n",
       "      <th>x0</th>\n",
       "      <th>x1</th>\n",
       "      <th>x2</th>\n",
       "      <th>x3</th>\n",
       "      <th>x4</th>\n",
       "      <th>x5</th>\n",
       "      <th>x6</th>\n",
       "      <th>x7</th>\n",
       "      <th>x8</th>\n",
       "      <th>x9</th>\n",
       "      <th>x10</th>\n",
       "      <th>x11</th>\n",
       "      <th>x12</th>\n",
       "      <th>x13</th>\n",
       "      <th>y</th>\n",
       "    </tr>\n",
       "  </thead>\n",
       "  <tbody>\n",
       "    <tr>\n",
       "      <th>0</th>\n",
       "      <td>-17.933519</td>\n",
       "      <td>6.559220</td>\n",
       "      <td>-14.452810</td>\n",
       "      <td>-4.732855</td>\n",
       "      <td>0.381673</td>\n",
       "      <td>2.563194</td>\n",
       "      <td>($1,306.52)</td>\n",
       "      <td>-89.394348</td>\n",
       "      <td>-28.454044</td>\n",
       "      <td>-16.201298</td>\n",
       "      <td>-0.01%</td>\n",
       "      <td>0.217010</td>\n",
       "      <td>9.729891</td>\n",
       "      <td>-0.786431</td>\n",
       "      <td>0.666146</td>\n",
       "    </tr>\n",
       "    <tr>\n",
       "      <th>1</th>\n",
       "      <td>-37.214754</td>\n",
       "      <td>10.774930</td>\n",
       "      <td>-15.384004</td>\n",
       "      <td>-0.077339</td>\n",
       "      <td>10.983774</td>\n",
       "      <td>-15.210206</td>\n",
       "      <td>($24.86)</td>\n",
       "      <td>153.032652</td>\n",
       "      <td>-32.557736</td>\n",
       "      <td>69.675903</td>\n",
       "      <td>0.00%</td>\n",
       "      <td>-3.584908</td>\n",
       "      <td>35.727926</td>\n",
       "      <td>-0.985552</td>\n",
       "      <td>0.378411</td>\n",
       "    </tr>\n",
       "    <tr>\n",
       "      <th>2</th>\n",
       "      <td>0.330441</td>\n",
       "      <td>-19.609972</td>\n",
       "      <td>-9.167911</td>\n",
       "      <td>2.064124</td>\n",
       "      <td>12.071688</td>\n",
       "      <td>12.506141</td>\n",
       "      <td>($110.85)</td>\n",
       "      <td>-141.437276</td>\n",
       "      <td>-20.794952</td>\n",
       "      <td>55.042604</td>\n",
       "      <td>0.00%</td>\n",
       "      <td>-3.991366</td>\n",
       "      <td>-9.283523</td>\n",
       "      <td>-3.394718</td>\n",
       "      <td>0.624498</td>\n",
       "    </tr>\n",
       "    <tr>\n",
       "      <th>3</th>\n",
       "      <td>-13.709765</td>\n",
       "      <td>-8.011390</td>\n",
       "      <td>6.759264</td>\n",
       "      <td>1.727615</td>\n",
       "      <td>-1.768382</td>\n",
       "      <td>24.039733</td>\n",
       "      <td>($324.43)</td>\n",
       "      <td>51.039653</td>\n",
       "      <td>-7.046908</td>\n",
       "      <td>-31.424419</td>\n",
       "      <td>0.01%</td>\n",
       "      <td>7.908897</td>\n",
       "      <td>-2.891882</td>\n",
       "      <td>-2.690222</td>\n",
       "      <td>0.126622</td>\n",
       "    </tr>\n",
       "    <tr>\n",
       "      <th>4</th>\n",
       "      <td>-4.202598</td>\n",
       "      <td>7.076210</td>\n",
       "      <td>-26.004919</td>\n",
       "      <td>-4.269696</td>\n",
       "      <td>-3.414224</td>\n",
       "      <td>2.115989</td>\n",
       "      <td>$1,213.37</td>\n",
       "      <td>-31.046700</td>\n",
       "      <td>19.061182</td>\n",
       "      <td>-31.525515</td>\n",
       "      <td>-0.01%</td>\n",
       "      <td>0.846719</td>\n",
       "      <td>25.497480</td>\n",
       "      <td>3.516801</td>\n",
       "      <td>0.640025</td>\n",
       "    </tr>\n",
       "  </tbody>\n",
       "</table>\n",
       "</div>"
      ],
      "text/plain": [
       "          x0         x1         x2        x3         x4         x5  \\\n",
       "0 -17.933519   6.559220 -14.452810 -4.732855   0.381673   2.563194   \n",
       "1 -37.214754  10.774930 -15.384004 -0.077339  10.983774 -15.210206   \n",
       "2   0.330441 -19.609972  -9.167911  2.064124  12.071688  12.506141   \n",
       "3 -13.709765  -8.011390   6.759264  1.727615  -1.768382  24.039733   \n",
       "4  -4.202598   7.076210 -26.004919 -4.269696  -3.414224   2.115989   \n",
       "\n",
       "            x6          x7         x8         x9     x10       x11        x12  \\\n",
       "0  ($1,306.52)  -89.394348 -28.454044 -16.201298  -0.01%  0.217010   9.729891   \n",
       "1     ($24.86)  153.032652 -32.557736  69.675903   0.00% -3.584908  35.727926   \n",
       "2    ($110.85) -141.437276 -20.794952  55.042604   0.00% -3.991366  -9.283523   \n",
       "3    ($324.43)   51.039653  -7.046908 -31.424419   0.01%  7.908897  -2.891882   \n",
       "4   $1,213.37   -31.046700  19.061182 -31.525515  -0.01%  0.846719  25.497480   \n",
       "\n",
       "        x13         y  \n",
       "0 -0.786431  0.666146  \n",
       "1 -0.985552  0.378411  \n",
       "2 -3.394718  0.624498  \n",
       "3 -2.690222  0.126622  \n",
       "4  3.516801  0.640025  "
      ]
     },
     "execution_count": 9,
     "metadata": {},
     "output_type": "execute_result"
    }
   ],
   "source": [
    "import numpy as np\n",
    "import pandas as pd\n",
    "\n",
    "df_original = pd.read_csv(\"eda_data.csv\")\n",
    "df = df_original.copy()\n",
    "df.head()"
   ]
  },
  {
   "cell_type": "code",
   "execution_count": 8,
   "id": "c01a6852",
   "metadata": {},
   "outputs": [
    {
     "data": {
      "text/plain": [
       "x0     float64\n",
       "x1     float64\n",
       "x2     float64\n",
       "x3     float64\n",
       "x4     float64\n",
       "x5     float64\n",
       "x6      object\n",
       "x7     float64\n",
       "x8     float64\n",
       "x9     float64\n",
       "x10     object\n",
       "x11    float64\n",
       "x12    float64\n",
       "x13    float64\n",
       "y      float64\n",
       "dtype: object"
      ]
     },
     "execution_count": 8,
     "metadata": {},
     "output_type": "execute_result"
    }
   ],
   "source": [
    "df.dtypes"
   ]
  },
  {
   "cell_type": "code",
   "execution_count": 15,
   "id": "96a62d16",
   "metadata": {},
   "outputs": [
    {
     "name": "stderr",
     "output_type": "stream",
     "text": [
      "/var/folders/tr/lrj2g9jj48b3h_1g08xgzp8r0000gn/T/ipykernel_11770/737347718.py:2: FutureWarning: The default value of regex will change from True to False in a future version. In addition, single character regular expressions will *not* be treated as literal strings when regex=True.\n",
      "  df['x6'] = df['x6'].str.replace('$', '')\n",
      "/var/folders/tr/lrj2g9jj48b3h_1g08xgzp8r0000gn/T/ipykernel_11770/737347718.py:3: FutureWarning: The default value of regex will change from True to False in a future version. In addition, single character regular expressions will *not* be treated as literal strings when regex=True.\n",
      "  df['x6'] = df['x6'].str.replace('(', '')\n",
      "/var/folders/tr/lrj2g9jj48b3h_1g08xgzp8r0000gn/T/ipykernel_11770/737347718.py:4: FutureWarning: The default value of regex will change from True to False in a future version. In addition, single character regular expressions will *not* be treated as literal strings when regex=True.\n",
      "  df['x6'] = df['x6'].str.replace(')', '')\n"
     ]
    },
    {
     "data": {
      "text/plain": [
       "x0     float64\n",
       "x1     float64\n",
       "x2     float64\n",
       "x3     float64\n",
       "x4     float64\n",
       "x5     float64\n",
       "x6     float64\n",
       "x7     float64\n",
       "x8     float64\n",
       "x9     float64\n",
       "x10     object\n",
       "x11    float64\n",
       "x12    float64\n",
       "x13    float64\n",
       "y      float64\n",
       "dtype: object"
      ]
     },
     "execution_count": 15,
     "metadata": {},
     "output_type": "execute_result"
    }
   ],
   "source": [
    "# clean up column x6 to remove currency indicators and change type to a float\n",
    "\n",
    "df['x6'] = df['x6'].str.replace(',', '')\n",
    "df['x6'] = df['x6'].str.replace('$', '')\n",
    "df['x6'] = df['x6'].str.replace('(', '')\n",
    "df['x6'] = df['x6'].str.replace(')', '')\n",
    "df['x6'] = df['x6'].astype('float')\n",
    "df.dtypes"
   ]
  },
  {
   "cell_type": "code",
   "execution_count": 20,
   "id": "3d6c74f5",
   "metadata": {},
   "outputs": [
    {
     "data": {
      "text/plain": [
       "x0     float64\n",
       "x1     float64\n",
       "x2     float64\n",
       "x3     float64\n",
       "x4     float64\n",
       "x5     float64\n",
       "x6     float64\n",
       "x7     float64\n",
       "x8     float64\n",
       "x9     float64\n",
       "x10    float64\n",
       "x11    float64\n",
       "x12    float64\n",
       "x13    float64\n",
       "y      float64\n",
       "dtype: object"
      ]
     },
     "execution_count": 20,
     "metadata": {},
     "output_type": "execute_result"
    }
   ],
   "source": [
    "# clean column x10 to remove and convert the percentage string to a numeric\n",
    "\n",
    "df['x10'] = df['x10'].str.rstrip('%').astype(float)/100\n",
    "df.dtypes"
   ]
  },
  {
   "cell_type": "code",
   "execution_count": 21,
   "id": "a165a7ca",
   "metadata": {},
   "outputs": [
    {
     "name": "stdout",
     "output_type": "stream",
     "text": [
      "<class 'pandas.core.frame.DataFrame'>\n",
      "RangeIndex: 9999 entries, 0 to 9998\n",
      "Data columns (total 15 columns):\n",
      " #   Column  Non-Null Count  Dtype  \n",
      "---  ------  --------------  -----  \n",
      " 0   x0      9996 non-null   float64\n",
      " 1   x1      9995 non-null   float64\n",
      " 2   x2      9996 non-null   float64\n",
      " 3   x3      9997 non-null   float64\n",
      " 4   x4      9997 non-null   float64\n",
      " 5   x5      9999 non-null   float64\n",
      " 6   x6      9996 non-null   float64\n",
      " 7   x7      9998 non-null   float64\n",
      " 8   x8      9999 non-null   float64\n",
      " 9   x9      9996 non-null   float64\n",
      " 10  x10     9997 non-null   float64\n",
      " 11  x11     9995 non-null   float64\n",
      " 12  x12     9999 non-null   float64\n",
      " 13  x13     9998 non-null   float64\n",
      " 14  y       9999 non-null   float64\n",
      "dtypes: float64(15)\n",
      "memory usage: 1.1 MB\n"
     ]
    }
   ],
   "source": [
    "# start the EDA process\n",
    "\n",
    "df.info()"
   ]
  },
  {
   "cell_type": "code",
   "execution_count": 22,
   "id": "f7d200a0",
   "metadata": {},
   "outputs": [
    {
     "data": {
      "text/plain": [
       "x0     9996\n",
       "x1     9995\n",
       "x2     9996\n",
       "x3     9997\n",
       "x4     9997\n",
       "x5     9999\n",
       "x6     9715\n",
       "x7     9998\n",
       "x8     9999\n",
       "x9     9996\n",
       "x10       9\n",
       "x11    9995\n",
       "x12    9999\n",
       "x13    9998\n",
       "y      9999\n",
       "dtype: int64"
      ]
     },
     "execution_count": 22,
     "metadata": {},
     "output_type": "execute_result"
    }
   ],
   "source": [
    "# check for duplication\n",
    "\n",
    "df.nunique()\n",
    "\n",
    "# since column x10 was previously a percentage column with relatively similar values, this output is expected"
   ]
  },
  {
   "cell_type": "code",
   "execution_count": 23,
   "id": "d530cb81",
   "metadata": {},
   "outputs": [
    {
     "data": {
      "text/plain": [
       "x0     3\n",
       "x1     4\n",
       "x2     3\n",
       "x3     2\n",
       "x4     2\n",
       "x5     0\n",
       "x6     3\n",
       "x7     1\n",
       "x8     0\n",
       "x9     3\n",
       "x10    2\n",
       "x11    4\n",
       "x12    0\n",
       "x13    1\n",
       "y      0\n",
       "dtype: int64"
      ]
     },
     "execution_count": 23,
     "metadata": {},
     "output_type": "execute_result"
    }
   ],
   "source": [
    "# check for missing values\n",
    "\n",
    "df.isnull().sum()"
   ]
  },
  {
   "cell_type": "code",
   "execution_count": 27,
   "id": "f09b0b19",
   "metadata": {},
   "outputs": [
    {
     "data": {
      "text/plain": [
       "x0     0\n",
       "x1     0\n",
       "x2     0\n",
       "x3     0\n",
       "x4     0\n",
       "x5     0\n",
       "x6     0\n",
       "x7     0\n",
       "x8     0\n",
       "x9     0\n",
       "x10    0\n",
       "x11    0\n",
       "x12    0\n",
       "x13    0\n",
       "y      0\n",
       "dtype: int64"
      ]
     },
     "execution_count": 27,
     "metadata": {},
     "output_type": "execute_result"
    }
   ],
   "source": [
    "# since the number of null values are limited, I'm going to eliminate the rows containing them to make our data set a bit cleaner\n",
    "\n",
    "new_df = df.dropna()\n",
    "new_df.isnull().sum()\n"
   ]
  },
  {
   "cell_type": "code",
   "execution_count": 29,
   "id": "9fa589b1",
   "metadata": {},
   "outputs": [
    {
     "name": "stderr",
     "output_type": "stream",
     "text": [
      "/var/folders/tr/lrj2g9jj48b3h_1g08xgzp8r0000gn/T/ipykernel_11770/74620152.py:3: DeprecationWarning: `import pandas_profiling` is going to be deprecated by April 1st. Please use `import ydata_profiling` instead.\n",
      "  from pandas_profiling import ProfileReport\n"
     ]
    },
    {
     "data": {
      "application/vnd.jupyter.widget-view+json": {
       "model_id": "786f15a7120248d9a9d7a410551e97ff",
       "version_major": 2,
       "version_minor": 0
      },
      "text/plain": [
       "Summarize dataset:   0%|          | 0/5 [00:00<?, ?it/s]"
      ]
     },
     "metadata": {},
     "output_type": "display_data"
    },
    {
     "data": {
      "application/vnd.jupyter.widget-view+json": {
       "model_id": "9845d9538f2e4615a89dd956e26e9d15",
       "version_major": 2,
       "version_minor": 0
      },
      "text/plain": [
       "Generate report structure:   0%|          | 0/1 [00:00<?, ?it/s]"
      ]
     },
     "metadata": {},
     "output_type": "display_data"
    },
    {
     "data": {
      "application/vnd.jupyter.widget-view+json": {
       "model_id": "e53bb8c466f848749a9e75368733c1fd",
       "version_major": 2,
       "version_minor": 0
      },
      "text/plain": [
       "Render HTML:   0%|          | 0/1 [00:00<?, ?it/s]"
      ]
     },
     "metadata": {},
     "output_type": "display_data"
    },
    {
     "data": {
      "application/vnd.jupyter.widget-view+json": {
       "model_id": "e0b616d5bab246aa8eb448762e0b47e5",
       "version_major": 2,
       "version_minor": 0
      },
      "text/plain": [
       "Export report to file:   0%|          | 0/1 [00:00<?, ?it/s]"
      ]
     },
     "metadata": {},
     "output_type": "display_data"
    }
   ],
   "source": [
    "# now time to run Pandas Profiling on the smaller EDA dataset\n",
    "\n",
    "from pandas_profiling import ProfileReport\n",
    "\n",
    "small_df = pd.read_csv(\"eda_data_small.csv\")\n",
    "prof = ProfileReport(small_df)\n",
    "prof.to_file(\"output.html\")"
   ]
  },
  {
   "cell_type": "code",
   "execution_count": null,
   "id": "0e849e7f",
   "metadata": {},
   "outputs": [],
   "source": []
  }
 ],
 "metadata": {
  "kernelspec": {
   "display_name": "Python 3 (ipykernel)",
   "language": "python",
   "name": "python3"
  },
  "language_info": {
   "codemirror_mode": {
    "name": "ipython",
    "version": 3
   },
   "file_extension": ".py",
   "mimetype": "text/x-python",
   "name": "python",
   "nbconvert_exporter": "python",
   "pygments_lexer": "ipython3",
   "version": "3.10.9"
  }
 },
 "nbformat": 4,
 "nbformat_minor": 5
}
